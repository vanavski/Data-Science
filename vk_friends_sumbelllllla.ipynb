{
 "cells": [
  {
   "cell_type": "markdown",
   "metadata": {},
   "source": [
    "# Это проект по поиску друзей по интересам в группах Вконтакте. \n",
    "Загрузим необходимые библиотеки:"
   ]
  },
  {
   "cell_type": "code",
   "execution_count": 24,
   "metadata": {},
   "outputs": [],
   "source": [
    "import vk\n",
    "import pandas as pd"
   ]
  },
  {
   "cell_type": "markdown",
   "metadata": {},
   "source": [
    "Подключим VK API к проекту:"
   ]
  },
  {
   "cell_type": "code",
   "execution_count": 25,
   "metadata": {},
   "outputs": [],
   "source": [
    "VK_TOKEN = '3666e68f93e125d24e29ffd94b50bfbc79f3f0ee64b5a2076fbc5d92cd1d2b20d5a089b25b205512897d6'\n",
    "ID = 10385605\n",
    "session = vk.Session(VK_TOKEN)\n",
    "vk_api = vk.API(session, v=5.103)"
   ]
  },
  {
   "cell_type": "markdown",
   "metadata": {},
   "source": [
    "Определим методы для дальнейшей работы:"
   ]
  },
  {
   "cell_type": "markdown",
   "metadata": {},
   "source": [
    "Получаем типы групп по айди пользователя."
   ]
  },
  {
   "cell_type": "code",
   "execution_count": 26,
   "metadata": {},
   "outputs": [],
   "source": [
    "def get_groups_activity(id):\n",
    "    groups = vk_api.groups.get(user_id=id, fields=['activity'], extended=1)\n",
    "    activities = []\n",
    "    for group in groups['items']:\n",
    "        try:\n",
    "            activities.append(group['activity'])\n",
    "        except Exception:\n",
    "            continue\n",
    "    return activities"
   ]
  },
  {
   "cell_type": "markdown",
   "metadata": {},
   "source": [
    "Получаем процентное соотношение конкретного типа группы ко всем группам. Выводим первые 10 человек"
   ]
  },
  {
   "cell_type": "code",
   "execution_count": 27,
   "metadata": {},
   "outputs": [],
   "source": [
    "def vadim_gets_percents(activities):\n",
    "    df = pd.DataFrame(data= activities, columns=['activity'])\n",
    "    df = df.loc[(df.loc[:, 'activity'] != 'Открытая группа') & (df.loc[:, 'activity'] != 'Закрытая группа')]\n",
    "    df['count'] = 1\n",
    "    df2 = df.groupby('activity').count()\n",
    "    df2['percent'] = df2['count'] / len(df.index) * 100\n",
    "    df2 = df2.sort_values(by = 'percent', ascending = False)\n",
    "    activities = df2.index\n",
    "    df2['activity'] = activities\n",
    "    df2['index'] = range(len(df2))\n",
    "    df2 = df2.set_index('index')\n",
    "    return df2.head(10)"
   ]
  },
  {
   "cell_type": "markdown",
   "metadata": {},
   "source": [
    "Вычисляем сколько групп в процентном соотношении соотвествуют между мной и другом"
   ]
  },
  {
   "cell_type": "code",
   "execution_count": 28,
   "metadata": {},
   "outputs": [],
   "source": [
    "def get_my_libe_froind(first_p, second_p):\n",
    "    count = 0\n",
    "    for i in range(len(first_p)):  \n",
    "        for j in range(len(second_p)):\n",
    "            if (first_p.loc[i, 'activity'] == second_p.loc[j, 'activity']) &  (abs(first_p.loc[i, 'percent'] - second_p.loc[j, 'percent']) < 5):\n",
    "                count += 1\n",
    "    return count"
   ]
  },
  {
   "cell_type": "markdown",
   "metadata": {},
   "source": [
    "Получаем таблицу с процентным соотношением типов групп для себя."
   ]
  },
  {
   "cell_type": "code",
   "execution_count": 29,
   "metadata": {},
   "outputs": [
    {
     "data": {
      "text/html": [
       "<div>\n",
       "<style scoped>\n",
       "    .dataframe tbody tr th:only-of-type {\n",
       "        vertical-align: middle;\n",
       "    }\n",
       "\n",
       "    .dataframe tbody tr th {\n",
       "        vertical-align: top;\n",
       "    }\n",
       "\n",
       "    .dataframe thead th {\n",
       "        text-align: right;\n",
       "    }\n",
       "</style>\n",
       "<table border=\"1\" class=\"dataframe\">\n",
       "  <thead>\n",
       "    <tr style=\"text-align: right;\">\n",
       "      <th></th>\n",
       "      <th>count</th>\n",
       "      <th>percent</th>\n",
       "      <th>activity</th>\n",
       "    </tr>\n",
       "    <tr>\n",
       "      <th>index</th>\n",
       "      <th></th>\n",
       "      <th></th>\n",
       "      <th></th>\n",
       "    </tr>\n",
       "  </thead>\n",
       "  <tbody>\n",
       "    <tr>\n",
       "      <td>0</td>\n",
       "      <td>12</td>\n",
       "      <td>10.344828</td>\n",
       "      <td>Образование</td>\n",
       "    </tr>\n",
       "    <tr>\n",
       "      <td>1</td>\n",
       "      <td>11</td>\n",
       "      <td>9.482759</td>\n",
       "      <td>Интернет-СМИ</td>\n",
       "    </tr>\n",
       "    <tr>\n",
       "      <td>2</td>\n",
       "      <td>9</td>\n",
       "      <td>7.758621</td>\n",
       "      <td>Музыкант</td>\n",
       "    </tr>\n",
       "    <tr>\n",
       "      <td>3</td>\n",
       "      <td>6</td>\n",
       "      <td>5.172414</td>\n",
       "      <td>Творчество</td>\n",
       "    </tr>\n",
       "    <tr>\n",
       "      <td>4</td>\n",
       "      <td>5</td>\n",
       "      <td>4.310345</td>\n",
       "      <td>Музыкальная группа</td>\n",
       "    </tr>\n",
       "    <tr>\n",
       "      <td>5</td>\n",
       "      <td>4</td>\n",
       "      <td>3.448276</td>\n",
       "      <td>Музыка</td>\n",
       "    </tr>\n",
       "    <tr>\n",
       "      <td>6</td>\n",
       "      <td>4</td>\n",
       "      <td>3.448276</td>\n",
       "      <td>Юмор</td>\n",
       "    </tr>\n",
       "    <tr>\n",
       "      <td>7</td>\n",
       "      <td>4</td>\n",
       "      <td>3.448276</td>\n",
       "      <td>Наука</td>\n",
       "    </tr>\n",
       "    <tr>\n",
       "      <td>8</td>\n",
       "      <td>3</td>\n",
       "      <td>2.586207</td>\n",
       "      <td>Искусство и развлечения</td>\n",
       "    </tr>\n",
       "    <tr>\n",
       "      <td>9</td>\n",
       "      <td>3</td>\n",
       "      <td>2.586207</td>\n",
       "      <td>Городское сообщество</td>\n",
       "    </tr>\n",
       "  </tbody>\n",
       "</table>\n",
       "</div>"
      ],
      "text/plain": [
       "       count    percent                 activity\n",
       "index                                           \n",
       "0         12  10.344828              Образование\n",
       "1         11   9.482759             Интернет-СМИ\n",
       "2          9   7.758621                 Музыкант\n",
       "3          6   5.172414               Творчество\n",
       "4          5   4.310345       Музыкальная группа\n",
       "5          4   3.448276                   Музыка\n",
       "6          4   3.448276                     Юмор\n",
       "7          4   3.448276                    Наука\n",
       "8          3   2.586207  Искусство и развлечения\n",
       "9          3   2.586207     Городское сообщество"
      ]
     },
     "execution_count": 29,
     "metadata": {},
     "output_type": "execute_result"
    }
   ],
   "source": [
    "my_activities = get_groups_activity(ID)\n",
    "my_percents = vadim_gets_percents(my_activities)\n",
    "my_percents"
   ]
  },
  {
   "cell_type": "markdown",
   "metadata": {},
   "source": [
    "Получаем имена друзей из апи"
   ]
  },
  {
   "cell_type": "code",
   "execution_count": 30,
   "metadata": {},
   "outputs": [],
   "source": [
    "friends = vk_api.friends.get(user_id=ID, extended=1, fields='nickname')['items']\n",
    "df = pd.DataFrame(columns=['friend_name', 'count'])\n",
    "i = 0"
   ]
  },
  {
   "cell_type": "markdown",
   "metadata": {},
   "source": [
    "Проходим по каждому другу. И вычисляем сколько у каждого друга общих типов групп с нашими. Выводим топ друзей."
   ]
  },
  {
   "cell_type": "code",
   "execution_count": 31,
   "metadata": {},
   "outputs": [
    {
     "name": "stdout",
     "output_type": "stream",
     "text": [
      "                          friend_name count\n",
      "90                  Тимур Хайрутдинов     6\n",
      "97                       Аня Изгарова     6\n",
      "5    Айдар Гайнутдинов-Rammsteinovich     5\n",
      "96                   Георгий Игоревич     5\n",
      "80                      Эмиль Рахимов     4\n",
      "89                 Анастасия Самилова     4\n",
      "64                       Ксюша Панова     4\n",
      "93                    Катя Покровская     4\n",
      "95                     Булат Нугманов     4\n",
      "23                       Азат Булатов     4\n",
      "82                      Тимур Гвоздев     4\n",
      "29                      Ильяс Мустаев     4\n",
      "2                    Михаил Абрамский     4\n",
      "65                        Егор Финеев     4\n",
      "103                 Родион Кантарьянц     4\n",
      "76                       Эмиль Кулиев     3\n",
      "46                    Богдан Сошников     3\n",
      "60                  Вадим Иванаевский     3\n",
      "59                    Настя Журавлева     3\n",
      "33                     Михаил Золотов     3\n",
      "66                        Артём Лялин     3\n",
      "86                  Гульшат Шамгунова     3\n",
      "38                      Алия Митушева     3\n",
      "68                  Равиль Насыбуллин     3\n",
      "50                    Арина Курбатова     3\n",
      "40                      Андрей Ужегов     3\n",
      "42                   Алмаз Хабибуллин     3\n",
      "49                  Анастасия Егорова     3\n",
      "45                     Амир Бахтияров     3\n",
      "0                    Григорий Ивойлов     3\n",
      "62                    Кирилл Колышкин     3\n",
      "100                   Maria Varlamova     3\n",
      "17                 Камиля Шакирзянова     3\n",
      "10                    Асхат Хайруллин     3\n",
      "11                     Азат Хайруллин     3\n",
      "13                      Арина Кочкина     3\n",
      "14                   Надир Замалдинов     3\n",
      "9                        Михаил Комов     3\n",
      "98                 Мириам Гарифзянова     3\n",
      "101                      Нияз Ильясов     3\n",
      "19                 Александр Вандюков     3\n",
      "20                      Ринат Шигапов     3\n",
      "104                    Искандер Мусин     3\n",
      "107                  Эвелина Каримова     3\n",
      "21                     Дарья Горшкова     3\n",
      "24                     Сергей Рыжаков     3\n",
      "72                     Ксения Мягкова     2\n",
      "67                    Эмиль Мубараков     2\n",
      "109                      Диля Громова     2\n",
      "69                  Серёжа Кондратьев     2\n"
     ]
    }
   ],
   "source": [
    "for friend in friends: \n",
    "    try:\n",
    "        fr_activities = get_groups_activity(friend['id'])\n",
    "        fr_percents = vadim_gets_percents(fr_activities)\n",
    "        friend_name = friend['first_name'] + ' ' + friend['last_name']\n",
    "        count = get_my_libe_froind(my_percents, fr_percents)\n",
    "        df.loc[i] = [friend_name, count]\n",
    "        i += 1\n",
    "    except Exception:\n",
    "        continue\n",
    "\n",
    "df = df.sort_values(by='count', ascending=False)\n",
    "print(df.head(50))"
   ]
  },
  {
   "cell_type": "code",
   "execution_count": 32,
   "metadata": {},
   "outputs": [
    {
     "data": {
      "text/html": [
       "<div>\n",
       "<style scoped>\n",
       "    .dataframe tbody tr th:only-of-type {\n",
       "        vertical-align: middle;\n",
       "    }\n",
       "\n",
       "    .dataframe tbody tr th {\n",
       "        vertical-align: top;\n",
       "    }\n",
       "\n",
       "    .dataframe thead th {\n",
       "        text-align: right;\n",
       "    }\n",
       "</style>\n",
       "<table border=\"1\" class=\"dataframe\">\n",
       "  <thead>\n",
       "    <tr style=\"text-align: right;\">\n",
       "      <th></th>\n",
       "      <th>friend_name</th>\n",
       "      <th>count</th>\n",
       "    </tr>\n",
       "  </thead>\n",
       "  <tbody>\n",
       "    <tr>\n",
       "      <td>90</td>\n",
       "      <td>Тимур Хайрутдинов</td>\n",
       "      <td>6</td>\n",
       "    </tr>\n",
       "    <tr>\n",
       "      <td>97</td>\n",
       "      <td>Аня Изгарова</td>\n",
       "      <td>6</td>\n",
       "    </tr>\n",
       "    <tr>\n",
       "      <td>5</td>\n",
       "      <td>Айдар Гайнутдинов-Rammsteinovich</td>\n",
       "      <td>5</td>\n",
       "    </tr>\n",
       "    <tr>\n",
       "      <td>96</td>\n",
       "      <td>Георгий Игоревич</td>\n",
       "      <td>5</td>\n",
       "    </tr>\n",
       "    <tr>\n",
       "      <td>80</td>\n",
       "      <td>Эмиль Рахимов</td>\n",
       "      <td>4</td>\n",
       "    </tr>\n",
       "    <tr>\n",
       "      <td>...</td>\n",
       "      <td>...</td>\n",
       "      <td>...</td>\n",
       "    </tr>\n",
       "    <tr>\n",
       "      <td>36</td>\n",
       "      <td>Руслан Нигматзянов</td>\n",
       "      <td>0</td>\n",
       "    </tr>\n",
       "    <tr>\n",
       "      <td>75</td>\n",
       "      <td>Богдан Полин</td>\n",
       "      <td>0</td>\n",
       "    </tr>\n",
       "    <tr>\n",
       "      <td>43</td>\n",
       "      <td>Эльмира Баширова</td>\n",
       "      <td>0</td>\n",
       "    </tr>\n",
       "    <tr>\n",
       "      <td>79</td>\n",
       "      <td>Илья Тарасенко</td>\n",
       "      <td>0</td>\n",
       "    </tr>\n",
       "    <tr>\n",
       "      <td>94</td>\n",
       "      <td>Вильям Нюьсом</td>\n",
       "      <td>0</td>\n",
       "    </tr>\n",
       "  </tbody>\n",
       "</table>\n",
       "<p>111 rows × 2 columns</p>\n",
       "</div>"
      ],
      "text/plain": [
       "                         friend_name count\n",
       "90                 Тимур Хайрутдинов     6\n",
       "97                      Аня Изгарова     6\n",
       "5   Айдар Гайнутдинов-Rammsteinovich     5\n",
       "96                  Георгий Игоревич     5\n",
       "80                     Эмиль Рахимов     4\n",
       "..                               ...   ...\n",
       "36                Руслан Нигматзянов     0\n",
       "75                      Богдан Полин     0\n",
       "43                  Эльмира Баширова     0\n",
       "79                    Илья Тарасенко     0\n",
       "94                     Вильям Нюьсом     0\n",
       "\n",
       "[111 rows x 2 columns]"
      ]
     },
     "execution_count": 32,
     "metadata": {},
     "output_type": "execute_result"
    }
   ],
   "source": [
    "df"
   ]
  },
  {
   "cell_type": "code",
   "execution_count": 33,
   "metadata": {},
   "outputs": [
    {
     "data": {
      "text/html": [
       "<div>\n",
       "<style scoped>\n",
       "    .dataframe tbody tr th:only-of-type {\n",
       "        vertical-align: middle;\n",
       "    }\n",
       "\n",
       "    .dataframe tbody tr th {\n",
       "        vertical-align: top;\n",
       "    }\n",
       "\n",
       "    .dataframe thead th {\n",
       "        text-align: right;\n",
       "    }\n",
       "</style>\n",
       "<table border=\"1\" class=\"dataframe\">\n",
       "  <thead>\n",
       "    <tr style=\"text-align: right;\">\n",
       "      <th></th>\n",
       "      <th>friend_name</th>\n",
       "      <th>count</th>\n",
       "    </tr>\n",
       "  </thead>\n",
       "  <tbody>\n",
       "    <tr>\n",
       "      <td>90</td>\n",
       "      <td>Тимур Хайрутдинов</td>\n",
       "      <td>6</td>\n",
       "    </tr>\n",
       "    <tr>\n",
       "      <td>97</td>\n",
       "      <td>Аня Изгарова</td>\n",
       "      <td>6</td>\n",
       "    </tr>\n",
       "    <tr>\n",
       "      <td>5</td>\n",
       "      <td>Айдар Гайнутдинов-Rammsteinovich</td>\n",
       "      <td>5</td>\n",
       "    </tr>\n",
       "    <tr>\n",
       "      <td>96</td>\n",
       "      <td>Георгий Игоревич</td>\n",
       "      <td>5</td>\n",
       "    </tr>\n",
       "    <tr>\n",
       "      <td>80</td>\n",
       "      <td>Эмиль Рахимов</td>\n",
       "      <td>4</td>\n",
       "    </tr>\n",
       "    <tr>\n",
       "      <td>...</td>\n",
       "      <td>...</td>\n",
       "      <td>...</td>\n",
       "    </tr>\n",
       "    <tr>\n",
       "      <td>36</td>\n",
       "      <td>Руслан Нигматзянов</td>\n",
       "      <td>0</td>\n",
       "    </tr>\n",
       "    <tr>\n",
       "      <td>75</td>\n",
       "      <td>Богдан Полин</td>\n",
       "      <td>0</td>\n",
       "    </tr>\n",
       "    <tr>\n",
       "      <td>43</td>\n",
       "      <td>Эльмира Баширова</td>\n",
       "      <td>0</td>\n",
       "    </tr>\n",
       "    <tr>\n",
       "      <td>79</td>\n",
       "      <td>Илья Тарасенко</td>\n",
       "      <td>0</td>\n",
       "    </tr>\n",
       "    <tr>\n",
       "      <td>94</td>\n",
       "      <td>Вильям Нюьсом</td>\n",
       "      <td>0</td>\n",
       "    </tr>\n",
       "  </tbody>\n",
       "</table>\n",
       "<p>110 rows × 2 columns</p>\n",
       "</div>"
      ],
      "text/plain": [
       "                         friend_name count\n",
       "90                 Тимур Хайрутдинов     6\n",
       "97                      Аня Изгарова     6\n",
       "5   Айдар Гайнутдинов-Rammsteinovich     5\n",
       "96                  Георгий Игоревич     5\n",
       "80                     Эмиль Рахимов     4\n",
       "..                               ...   ...\n",
       "36                Руслан Нигматзянов     0\n",
       "75                      Богдан Полин     0\n",
       "43                  Эльмира Баширова     0\n",
       "79                    Илья Тарасенко     0\n",
       "94                     Вильям Нюьсом     0\n",
       "\n",
       "[110 rows x 2 columns]"
      ]
     },
     "execution_count": 33,
     "metadata": {},
     "output_type": "execute_result"
    }
   ],
   "source": [
    "df = df.drop_duplicates(subset=['friend_name'])\n",
    "df"
   ]
  },
  {
   "cell_type": "code",
   "execution_count": null,
   "metadata": {},
   "outputs": [],
   "source": []
  }
 ],
 "metadata": {
  "kernelspec": {
   "display_name": "Python 3",
   "language": "python",
   "name": "python3"
  },
  "language_info": {
   "codemirror_mode": {
    "name": "ipython",
    "version": 3
   },
   "file_extension": ".py",
   "mimetype": "text/x-python",
   "name": "python",
   "nbconvert_exporter": "python",
   "pygments_lexer": "ipython3",
   "version": "3.7.4"
  }
 },
 "nbformat": 4,
 "nbformat_minor": 2
}
